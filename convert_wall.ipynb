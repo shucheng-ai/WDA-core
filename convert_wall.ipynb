{
 "cells": [
  {
   "cell_type": "code",
   "execution_count": 1,
   "metadata": {},
   "outputs": [],
   "source": [
    "import layout"
   ]
  },
  {
   "cell_type": "code",
   "execution_count": 2,
   "metadata": {},
   "outputs": [
    {
     "name": "stdout",
     "output_type": "stream",
     "text": [
      "[[0, 108669], [0, 6412], [995, 6301], [995, 553], [1990, 442], [1990, 0], [49857, 0], [49857, 6523], [49967, 6633], [49967, 20341], [50078, 20452], [50189, 34270], [50189, 108669]]\n"
     ]
    }
   ],
   "source": [
    "wall = [\n",
    "    [0, 0], [400, 500], [1000, 0], [2000, 2000], [2000, 2500], [400, 2000], [100, 1500], [0, 1000]\n",
    "]\n",
    "wall_reverse = [[-368492, -442809], [-368492, -545066], [-367497, -545177], [-367497, -550925], [-366502, -551036], [-366502, -551478], [-318635, -551478], [-318635, -544955], [-318525, -544845], [-318525, -531137], [-318414, -531026], [-318303, -517208], [-318303, -442809]]\n",
    "min1 = 0\n",
    "min2 = 0\n",
    "for p in wall_reverse :\n",
    "    min1 = min(min1, p[0])\n",
    "    min2 = min(min2, p[1])\n",
    "for p in wall_reverse :\n",
    "    p[0] -= min1\n",
    "    p[1] -= min2\n",
    "print(wall_reverse)\n",
    "max1 = 0\n",
    "max2 = 0\n",
    "for p in wall_reverse :\n",
    "    max1 = max(max1, p[0])\n",
    "    max2 = max(max2, p[1])"
   ]
  },
  {
   "cell_type": "code",
   "execution_count": 3,
   "metadata": {},
   "outputs": [],
   "source": [
    "ob = layout.convert_wall(wall_reverse)"
   ]
  },
  {
   "cell_type": "code",
   "execution_count": 4,
   "metadata": {},
   "outputs": [
    {
     "name": "stdout",
     "output_type": "stream",
     "text": [
      "[[[0, 6301], [0, 6412], [995, 6412], [995, 0]], [[0, 553], [0, 6301], [995, 6301], [995, 0]], [[0, 442], [0, 553], [995, 553], [995, 0]], [[995, 442], [995, 553], [1990, 553], [1990, 995]], [[0, 0], [0, 442], [1990, 442], [1990, 0]], [[49857, 0], [49857, 6633], [49967, 6633], [49967, 49857]], [[49967, 0], [49967, 20452], [50078, 20452], [50078, 49967]], [[50078, 0], [50078, 34270], [50189, 34270], [50189, 50078]]]\n"
     ]
    }
   ],
   "source": [
    "print(ob)"
   ]
  },
  {
   "cell_type": "code",
   "execution_count": 5,
   "metadata": {},
   "outputs": [],
   "source": [
    "for p in wall_reverse :\n",
    "    p[0] = p[0] * 25000 // max1\n",
    "    p[1] = p[1] * 25000 // max2\n",
    "for x,y in ob :\n",
    "    x[0] = x[0] * 25000 // max1\n",
    "    x[1] = x[1] * 25000 // max2\n",
    "    y[0] = y[0] * 25000 // max1\n",
    "    y[1] = y[1] * 25000 // max2"
   ]
  },
  {
   "cell_type": "code",
   "execution_count": 6,
   "metadata": {},
   "outputs": [
    {
     "name": "stdout",
     "output_type": "stream",
     "text": [
      "[[0, 25000], [0, 1475], [495, 1449], [495, 127], [991, 101], [991, 0], [24834, 0], [24834, 1500], [24889, 1525], [24889, 4679], [24944, 4705], [25000, 7884], [25000, 25000]]\n",
      "[([0, 1449], [495, 1475]), ([0, 127], [495, 1449]), ([0, 101], [495, 127]), ([495, 101], [991, 127]), ([0, 0], [991, 101]), ([24834, 0], [24889, 1525]), ([24889, 0], [24944, 4705]), ([24944, 0], [25000, 7884])]\n"
     ]
    }
   ],
   "source": [
    "print(wall_reverse)\n",
    "print(ob)"
   ]
  },
  {
   "cell_type": "code",
   "execution_count": 7,
   "metadata": {},
   "outputs": [],
   "source": [
    "import cv2\n",
    "import numpy as np\n",
    "from matplotlib import pyplot as plt"
   ]
  },
  {
   "cell_type": "code",
   "execution_count": 8,
   "metadata": {},
   "outputs": [],
   "source": [
    "img = np.zeros((2505, 2505, 3), np.uint8)"
   ]
  },
  {
   "cell_type": "code",
   "execution_count": 9,
   "metadata": {},
   "outputs": [
    {
     "data": {
      "text/plain": [
       "array([[[  0,   0,   0],\n",
       "        [  0,   0,   0],\n",
       "        [  0,   0,   0],\n",
       "        ...,\n",
       "        [  0, 255,   0],\n",
       "        [  0, 255,   0],\n",
       "        [  0, 255,   0]],\n",
       "\n",
       "       [[  0,   0,   0],\n",
       "        [  0,   0,   0],\n",
       "        [  0,   0,   0],\n",
       "        ...,\n",
       "        [  0, 255,   0],\n",
       "        [  0, 255,   0],\n",
       "        [  0, 255,   0]],\n",
       "\n",
       "       [[  0,   0,   0],\n",
       "        [  0,   0,   0],\n",
       "        [  0,   0,   0],\n",
       "        ...,\n",
       "        [  0, 255,   0],\n",
       "        [  0, 255,   0],\n",
       "        [  0, 255,   0]],\n",
       "\n",
       "       ...,\n",
       "\n",
       "       [[  0, 255,   0],\n",
       "        [  0, 255,   0],\n",
       "        [  0, 255,   0],\n",
       "        ...,\n",
       "        [  0,   0,   0],\n",
       "        [  0,   0,   0],\n",
       "        [  0,   0,   0]],\n",
       "\n",
       "       [[  0, 255,   0],\n",
       "        [  0, 255,   0],\n",
       "        [  0, 255,   0],\n",
       "        ...,\n",
       "        [  0,   0,   0],\n",
       "        [  0,   0,   0],\n",
       "        [  0,   0,   0]],\n",
       "\n",
       "       [[  0, 255,   0],\n",
       "        [  0, 255,   0],\n",
       "        [  0, 255,   0],\n",
       "        ...,\n",
       "        [  0,   0,   0],\n",
       "        [  0,   0,   0],\n",
       "        [  0,   0,   0]]], dtype=uint8)"
      ]
     },
     "execution_count": 9,
     "metadata": {},
     "output_type": "execute_result"
    }
   ],
   "source": [
    "cv2.polylines(img, np.array([wall_reverse]), 1, [0, 255, 0], 10)"
   ]
  },
  {
   "cell_type": "code",
   "execution_count": 18,
   "metadata": {},
   "outputs": [
    {
     "data": {
      "image/png": "[encoded data removed]",
      "text/plain": [
       "<Figure size 720x720 with 1 Axes>"
      ]
     },
     "metadata": {
      "needs_background": "light"
     },
     "output_type": "display_data"
    }
   ],
   "source": [
    "x, y = ob[0]\n",
    "cv2.rectangle(img, tuple(x), tuple(y), (0,0,255), -1)\n",
    "plt.figure(figsize=(10, 10))\n",
    "plt.imshow(img)\n",
    "plt.show()"
   ]
  },
  {
   "cell_type": "code",
   "execution_count": null,
   "metadata": {},
   "outputs": [],
   "source": []
  }
 ],
 "metadata": {
  "kernelspec": {
   "display_name": "Python 3",
   "language": "python",
   "name": "python3"
  },
  "language_info": {
   "codemirror_mode": {
    "name": "ipython",
    "version": 3
   },
   "file_extension": ".py",
   "mimetype": "text/x-python",
   "name": "python",
   "nbconvert_exporter": "python",
   "pygments_lexer": "ipython3",
   "version": "3.6.9"
  }
 },
 "nbformat": 4,
 "nbformat_minor": 4
}
